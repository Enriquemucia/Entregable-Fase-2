{
 "cells": [
  {
   "cell_type": "markdown",
   "metadata": {},
   "source": [
    "### PROYECTO DE CURSO – FASE 2\n",
    "#### Desarrollo de modelo de clasificación\n",
    "##### Monica Velasquez y Enrique Rodriguez"
   ]
  },
  {
   "cell_type": "code",
   "execution_count": 7,
   "metadata": {},
   "outputs": [],
   "source": [
    "import pandas as pd\n",
    "from sklearn.model_selection import train_test_split, GridSearchCV\n",
    "from sklearn.metrics import accuracy_score\n",
    "from sklearn.naive_bayes import GaussianNB\n",
    "from sklearn.discriminant_analysis import LinearDiscriminantAnalysis, QuadraticDiscriminantAnalysis\n",
    "from sklearn.linear_model import LogisticRegression\n",
    "from sklearn.svm import SVC\n",
    "from sklearn.tree import DecisionTreeClassifier\n",
    "from sklearn.ensemble import RandomForestClassifier, AdaBoostClassifier, GradientBoostingClassifier\n",
    "import xgboost as xgb\n",
    "from datetime import datetime\n",
    "import time\n",
    "import warnings"
   ]
  },
  {
   "cell_type": "code",
   "execution_count": 11,
   "metadata": {},
   "outputs": [],
   "source": [
    "warnings.filterwarnings('ignore')\n",
    "\n",
    "# Cargar los datos\n",
    "data = pd.read_csv('bank-additional-full-transformed.csv')"
   ]
  },
  {
   "cell_type": "code",
   "execution_count": 12,
   "metadata": {},
   "outputs": [],
   "source": [
    "# Separar características y variable objetivo\n",
    "X = data.drop(columns=['y_no', 'y_yes'])\n",
    "y = data['y_yes']  # 1 para 'yes', 0 para 'no'"
   ]
  },
  {
   "cell_type": "code",
   "execution_count": 13,
   "metadata": {},
   "outputs": [],
   "source": [
    "# Dividir en conjuntos de entrenamiento y prueba\n",
    "X_train, X_test, y_train, y_test = train_test_split(X, y, test_size=0.2, random_state=42)"
   ]
  },
  {
   "cell_type": "code",
   "execution_count": 14,
   "metadata": {},
   "outputs": [],
   "source": [
    "# Lista de modelos y sus hiperparámetros para GridSearchCV\n",
    "models = [\n",
    "    (GaussianNB(), {}),\n",
    "    (LinearDiscriminantAnalysis(), {}),\n",
    "    (LogisticRegression(), {'C': [0.01, 0.1, 1, 10, 100]}),\n",
    "    (SVC(), {'kernel': ['linear', 'rbf'], 'C': [0.1, 1, 10]}),\n",
    "    (DecisionTreeClassifier(), {'max_depth': [None, 10, 20, 30]}),\n",
    "    (RandomForestClassifier(), {'n_estimators': [50, 100, 200]}),\n",
    "    (QuadraticDiscriminantAnalysis(), {}),\n",
    "    (AdaBoostClassifier(), {'n_estimators': [50, 100, 200]}),\n",
    "    (GradientBoostingClassifier(), {'n_estimators': [50, 100, 200]}),\n",
    "    (xgb.XGBClassifier(), {'n_estimators': [50, 100, 200]}),\n",
    "]\n",
    "\n",
    "results = []"
   ]
  },
  {
   "cell_type": "code",
   "execution_count": 15,
   "metadata": {},
   "outputs": [],
   "source": [
    "# Entrenar y evaluar cada modelo con GridSearchCV\n",
    "for index, (model, params) in enumerate(models):\n",
    "    start_time = time.time()\n",
    "    grid = GridSearchCV(model, param_grid=params, cv=5, scoring='accuracy')\n",
    "    grid.fit(X_train, y_train)\n",
    "    end_time = time.time()\n",
    "    \n",
    "    best_model = grid.best_estimator_\n",
    "    y_pred = best_model.predict(X_test)\n",
    "    accuracy = accuracy_score(y_test, y_pred)\n",
    "    \n",
    "    end_datetime = datetime.now().strftime('%Y-%m-%d %H:%M:%S')\n",
    "    \n",
    "    results.append({\n",
    "        'Index': index,\n",
    "        'Model': type(best_model).__name__,\n",
    "        'Best Hyperparameters': grid.best_params_,\n",
    "        'Accuracy': accuracy,\n",
    "        'Training Time (seconds)': end_time - start_time,\n",
    "        'End Datetime': end_datetime\n",
    "    })"
   ]
  },
  {
   "cell_type": "code",
   "execution_count": 16,
   "metadata": {},
   "outputs": [],
   "source": [
    "\n",
    "# Crear un DataFrame con los resultados\n",
    "results_df = pd.DataFrame(results)\n",
    "results_df = results_df.sort_values(by='Accuracy', ascending=False)"
   ]
  },
  {
   "cell_type": "code",
   "execution_count": 17,
   "metadata": {},
   "outputs": [
    {
     "name": "stdout",
     "output_type": "stream",
     "text": [
      "   Index                          Model       Best Hyperparameters  Accuracy  \\\n",
      "8      8     GradientBoostingClassifier      {'n_estimators': 100}  0.919762   \n",
      "9      9                  XGBClassifier       {'n_estimators': 50}  0.915635   \n",
      "5      5         RandomForestClassifier      {'n_estimators': 100}  0.911750   \n",
      "2      2             LogisticRegression                  {'C': 10}  0.909808   \n",
      "3      3                            SVC  {'C': 1, 'kernel': 'rbf'}  0.909444   \n",
      "7      7             AdaBoostClassifier      {'n_estimators': 200}  0.909080   \n",
      "1      1     LinearDiscriminantAnalysis                         {}  0.908594   \n",
      "4      4         DecisionTreeClassifier          {'max_depth': 10}  0.905924   \n",
      "0      0                     GaussianNB                         {}  0.717043   \n",
      "6      6  QuadraticDiscriminantAnalysis                         {}  0.149308   \n",
      "\n",
      "   Training Time (seconds)         End Datetime  \n",
      "8                61.845779  2024-06-30 23:10:31  \n",
      "9                 2.831996  2024-06-30 23:10:34  \n",
      "5                36.273477  2024-06-30 23:08:45  \n",
      "2                 3.791221  2024-06-30 22:50:49  \n",
      "3              1033.632655  2024-06-30 23:08:06  \n",
      "7                43.468214  2024-06-30 23:09:29  \n",
      "1                 0.969916  2024-06-30 22:50:45  \n",
      "4                 2.869438  2024-06-30 23:08:09  \n",
      "0                 0.574208  2024-06-30 22:50:44  \n",
      "6                 0.408574  2024-06-30 23:08:46  \n"
     ]
    }
   ],
   "source": [
    "# Mostrar los resultados\n",
    "print(results_df)"
   ]
  }
 ],
 "metadata": {
  "kernelspec": {
   "display_name": "base",
   "language": "python",
   "name": "python3"
  },
  "language_info": {
   "codemirror_mode": {
    "name": "ipython",
    "version": 3
   },
   "file_extension": ".py",
   "mimetype": "text/x-python",
   "name": "python",
   "nbconvert_exporter": "python",
   "pygments_lexer": "ipython3",
   "version": "3.11.7"
  }
 },
 "nbformat": 4,
 "nbformat_minor": 2
}
